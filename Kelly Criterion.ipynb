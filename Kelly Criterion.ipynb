{
 "cells": [
  {
   "cell_type": "code",
   "execution_count": 1,
   "metadata": {},
   "outputs": [],
   "source": [
    "import pandas as pd\n",
    "import numpy as np\n",
    "import requests\n",
    "from bs4 import BeautifulSoup as BS\n",
    "import datetime\n",
    "import json"
   ]
  },
  {
   "cell_type": "code",
   "execution_count": 2,
   "metadata": {},
   "outputs": [],
   "source": [
    "proxy = '184.67.236.222:8080'\n",
    "probabilities = [0.5]"
   ]
  },
  {
   "cell_type": "code",
   "execution_count": 3,
   "metadata": {},
   "outputs": [],
   "source": [
    "#generates correct Kelly-bet size for any game\n",
    "def kelly(funds, name_1, odds_1, prob_1, name_2, odds_2, prob_2):\n",
    "    kelly_1 = (prob_1*odds_1 - 1)/(odds_1 - 1)\n",
    "    wager_1 = funds * kelly_1\n",
    "    kelly_2 = (prob_2*odds_2 - 1)/(odds_2 - 1)\n",
    "    wager_2 = funds * kelly_2\n",
    "    if 0 > kelly_1 and 0 > kelly_2:\n",
    "        stmt = print(\"Do not bet on the game between the\", name_1, \"and the\", name_2)\n",
    "    elif kelly_1 > kelly_2:\n",
    "        stmt = print(\"You should bet\", \"${:.2f}\".format(wager_1), \"on the\", name_1, \"to beat the\", name_2)\n",
    "    else:\n",
    "        stmt = print(\"You should bet\", \"${:.2f}\".format(wager_2), \"on the\", name_2, \"to beat the\", name_1)\n",
    "    return stmt"
   ]
  },
  {
   "cell_type": "code",
   "execution_count": 4,
   "metadata": {},
   "outputs": [
    {
     "name": "stdout",
     "output_type": "stream",
     "text": [
      "December 1, 2018\n"
     ]
    }
   ],
   "source": [
    "now = datetime.datetime.now()\n",
    "now.strftime(\"%Y-%m-%d %H:%M\")\n",
    "\n",
    "mydate = datetime.datetime.now()\n",
    "month = mydate.strftime(\"%B\")\n",
    "day = mydate.strftime(\"%d\")\n",
    "year = mydate.strftime(\"%Y\")\n",
    "current_date = print(month,\"{:.0f},\".format(int(day)), year)\n",
    "current_date"
   ]
  },
  {
   "cell_type": "code",
   "execution_count": 5,
   "metadata": {},
   "outputs": [
    {
     "name": "stdout",
     "output_type": "stream",
     "text": [
      "December 1, 2018, 11:15AM\n"
     ]
    }
   ],
   "source": [
    "#location of chance % win on the athletic\n",
    "url = \"https://theathletic.com/565136/2018/10/08/2018-19-nhl-point-projections-and-playoff-probabilities-updated-daily/\"\n",
    "\n",
    "r = requests.get(url)\n",
    "#soup = BS(r.text)\n",
    "#print(soup.find('Last updated').text)\n",
    "last_update_find = r.text.find('Last updated')\n",
    "last_updated = print(r.text[last_update_find:last_update_find+39][14:])\n",
    "last_updated"
   ]
  },
  {
   "cell_type": "code",
   "execution_count": 6,
   "metadata": {},
   "outputs": [
    {
     "name": "stdout",
     "output_type": "stream",
     "text": [
      "You should bet $26.11 on the Leafs to beat the Senators\n"
     ]
    }
   ],
   "source": [
    "bankroll = 100\n",
    "team1_name = \"Leafs\"\n",
    "team1_odds = 1.9\n",
    "team1_prob = 0.65\n",
    "team2_name = \"Senators\"\n",
    "team2_odds = 2.5\n",
    "team2_prob = 1-team1_prob\n",
    "\n",
    "kelly(bankroll, team1_name, team1_odds, team1_prob, team2_name, team2_odds, team2_prob)"
   ]
  },
  {
   "cell_type": "code",
   "execution_count": 7,
   "metadata": {},
   "outputs": [
    {
     "data": {
      "text/plain": [
       "1.7518796992481203"
      ]
     },
     "execution_count": 7,
     "metadata": {},
     "output_type": "execute_result"
    }
   ],
   "source": [
    "#convert American odds to decimal\n",
    "odds = -133\n",
    "\n",
    "if odds > 0:\n",
    "    decimal = odds/100 + 1\n",
    "else:\n",
    "    decimal = 100/abs(odds) + 1\n",
    "\n",
    "decimal"
   ]
  },
  {
   "cell_type": "code",
   "execution_count": 8,
   "metadata": {},
   "outputs": [],
   "source": [
    "#Current Bets\n",
    "\n",
    "    \n",
    "todays_date = datetime.datetime.now() + datetime.timedelta(days=2)\n",
    "todays_date = todays_date.isoformat()\n",
    "todays_date = todays_date[:10]\n",
    "\n",
    "url = \"https://api.pinnacle.com/v3/bets?betlist=RUNNING&fromDate=2018-11-28&toDate={0}\".format(todays_date)\n",
    "\n",
    "r = requests.get(url, auth=('*INSERT USERNAME*', '*INSERT PASSWORD*'), proxies={\"https\":proxy})\n",
    "\n",
    "current_bets = json.loads(r.text)\n",
    "current_bets = current_bets[\"straightBets\"]\n",
    "current_bets = pd.DataFrame(current_bets)\n",
    "current_bets = current_bets[[\"eventId\", \"price\", \"risk\", \"team1\", \"team2\", \"teamName\", \"win\"]]\n",
    "current_bets.columns = [\"Game ID\", \"Odds\", \"Bet\", \"Away Team\", \"Home Team\", \"Pick\", \"Profit\"]\n",
    "current_bets = current_bets[[\"Game ID\", \"Home Team\", \"Away Team\", \"Pick\", \"Bet\", \"Odds\", \"Profit\"]]\n",
    "\n",
    "    \n",
    "def bets():\n",
    "    \n",
    "    #current scores\n",
    "\n",
    "    url = \"https://statsapi.web.nhl.com/api/v1/schedule\"\n",
    "    r = requests.get(url)\n",
    "    games = json.loads(r.text)\n",
    "    games = games[\"dates\"][0][\"games\"]\n",
    "\n",
    "    d = []\n",
    "\n",
    "    for i in range(len(games)):\n",
    "        try:\n",
    "            home_team = games[i][\"teams\"][\"home\"][\"team\"][\"name\"]\n",
    "            away_team = games[i][\"teams\"][\"away\"][\"team\"][\"name\"]\n",
    "            home_score = games[i][\"teams\"][\"home\"][\"score\"]\n",
    "            away_score = games[i][\"teams\"][\"away\"][\"score\"]\n",
    "            if home_team == \"Montréal Canadiens\":\n",
    "                home_team = \"Montreal Canadiens\"\n",
    "            if home_team == \"St. Louis Blues\":\n",
    "                home_team = \"St Louis Blues\"\n",
    "            if away_team == \"Montréal Canadiens\":\n",
    "                away_team = \"Montreal Canadiens\"\n",
    "            if away_team == \"St. Louis Blues\":\n",
    "                away_team = \"St Louis Blues\"\n",
    "            row_dict = {\"Home Team\" : home_team, \"Home Score\" : home_score, \"Away Team\" : away_team, \"Away Score\" : away_score}\n",
    "            d.append(row_dict)\n",
    "        except:\n",
    "            continue\n",
    "\n",
    "    todays_games = pd.DataFrame(d)\n",
    "    todays_games = todays_games[[\"Home Team\", \"Home Score\", \"Away Team\", \"Away Score\"]]\n",
    "\n",
    "    bets = pd.merge(current_bets, todays_games, how=\"inner\", on=[\"Home Team\", \"Away Team\"], copy=False)\n",
    "    bets = bets.drop_duplicates('Game ID')\n",
    "    bets = bets.reset_index(drop=True)\n",
    "    \n",
    "    return bets"
   ]
  },
  {
   "cell_type": "code",
   "execution_count": 9,
   "metadata": {},
   "outputs": [],
   "source": [
    "#Today's games\n",
    "\n",
    "url = \"https://api.pinnacle.com/v1/fixtures?sportId=19&leagueIds=1460\"\n",
    "\n",
    "r = requests.get(url, auth=('*INSERT USERNAME*', '*INSERT PASSWORD*'), proxies={\"https\":proxy})\n",
    "\n",
    "games = json.loads(r.text)\n",
    "games = games[\"league\"]\n",
    "games = games[0]\n",
    "games = games[\"events\"]\n",
    "games = pd.DataFrame(games)\n",
    "games = games[[\"parentId\", \"home\", \"away\", \"starts\"]]\n",
    "games = games.loc[games[\"starts\"] < todays_date]\n",
    "games = games[np.isfinite(games[\"parentId\"])]\n",
    "games.columns = [\"Game ID\", \"Home Team\", \"Away Team\", \"Start Time\"]\n",
    "\n",
    "#Today's games betting odds\n",
    "\n",
    "url = \"https://api.pinnacle.com/v1/odds?sportId=19&leagueIds=1460&oddsFormat=Decimal\"\n",
    "\n",
    "r = requests.get(url, auth=('*INSERT USERNAME*', '*INSERT PASSWORD*'), proxies={\"https\":proxy})\n",
    "\n",
    "game_odds = json.loads(r.text)\n",
    "game_odds = game_odds[\"leagues\"]\n",
    "game_odds = game_odds[0]\n",
    "game_odds = game_odds[\"events\"]\n",
    "\n",
    "d = []\n",
    "\n",
    "for i in range(len(game_odds)):\n",
    "    try:\n",
    "        gameId = game_odds[i][\"id\"]\n",
    "        home_odds = game_odds[i][\"periods\"][0][\"moneyline\"][\"home\"]\n",
    "        away_odds = game_odds[i][\"periods\"][0][\"moneyline\"][\"away\"]\n",
    "        row_dict = {\"Game ID\" : gameId, \"Home Odds\" : home_odds, \"Away Odds\" : away_odds}\n",
    "        d.append(row_dict)\n",
    "    except:\n",
    "        continue\n",
    "\n",
    "odds = pd.DataFrame(d)\n",
    "odds = odds[[\"Game ID\", \"Home Odds\", \"Away Odds\"]]\n",
    "\n",
    "#combine games with odds\n",
    "\n",
    "df = pd.merge(odds, games, how=\"inner\", on=\"Game ID\", copy=False)\n",
    "df = df.drop_duplicates('Game ID')\n",
    "df = df.reset_index(drop=True)\n",
    "df = df[[\"Game ID\", \"Home Team\", \"Away Team\", \"Home Odds\", \"Away Odds\", \"Start Time\"]]\n",
    "\n",
    "#get availabe balance\n",
    "\n",
    "s = requests.get('https://api.pinnacle.com/v1/client/balance', auth=('*INSERT USERNAME*', '*INSERT PASSWORD*'), proxies={\"https\":proxy})\n",
    "\n",
    "balance_df = pd.Series(json.loads(s.text)).to_frame()\n",
    "bankroll = balance_df[0][0]\n",
    "\n",
    "#add kelly bets\n",
    "\n",
    "df[\"Home Probability\"] = probabilities\n",
    "df[\"Away Probability\"] = 1-df[\"Home Probability\"]\n",
    "df[\"Home Kelly\"] = (df[\"Home Probability\"]*df[\"Home Odds\"] - 1)/(df[\"Home Odds\"] - 1)\n",
    "df[\"Away Kelly\"] = (df[\"Away Probability\"]*df[\"Away Odds\"] - 1)/(df[\"Away Odds\"] - 1)\n",
    "\n",
    "d = []\n",
    "\n",
    "for i in range(len(df)):\n",
    "    try:\n",
    "        if df.iloc[i][8] < 0:\n",
    "            if df.iloc[i][9] < 0:\n",
    "                pick = \"N/A\"\n",
    "                bet = 0\n",
    "            else:\n",
    "                pick = df.iloc[i][2]\n",
    "                bet = bankroll*df.iloc[i][9] \n",
    "        else:\n",
    "            pick = df.iloc[i][1]\n",
    "            bet = bankroll*df.iloc[i][8]\n",
    "\n",
    "        row_dict = {\"Pick\" : pick, \"Wager\" : bet}\n",
    "        d.append(row_dict)\n",
    "    except:\n",
    "        continue\n",
    "\n",
    "kelly_bet = pd.DataFrame(d)\n",
    "kelly_bet = kelly_bet[[\"Pick\", \"Wager\"]]\n",
    "\n",
    "df[\"Pick\"] = kelly_bet[\"Pick\"]\n",
    "df[\"Wager\"] = kelly_bet[\"Wager\"]"
   ]
  },
  {
   "cell_type": "code",
   "execution_count": 10,
   "metadata": {
    "scrolled": false
   },
   "outputs": [
    {
     "data": {
      "text/html": [
       "<div>\n",
       "<style>\n",
       "    .dataframe thead tr:only-child th {\n",
       "        text-align: right;\n",
       "    }\n",
       "\n",
       "    .dataframe thead th {\n",
       "        text-align: left;\n",
       "    }\n",
       "\n",
       "    .dataframe tbody tr th {\n",
       "        vertical-align: top;\n",
       "    }\n",
       "</style>\n",
       "<table border=\"1\" class=\"dataframe\">\n",
       "  <thead>\n",
       "    <tr style=\"text-align: right;\">\n",
       "      <th></th>\n",
       "      <th>Game ID</th>\n",
       "      <th>Home Team</th>\n",
       "      <th>Away Team</th>\n",
       "      <th>Pick</th>\n",
       "      <th>Bet</th>\n",
       "      <th>Odds</th>\n",
       "      <th>Profit</th>\n",
       "      <th>Home Score</th>\n",
       "      <th>Away Score</th>\n",
       "    </tr>\n",
       "  </thead>\n",
       "  <tbody>\n",
       "    <tr>\n",
       "      <th>0</th>\n",
       "      <td>924787663</td>\n",
       "      <td>Nashville Predators</td>\n",
       "      <td>Chicago Blackhawks</td>\n",
       "      <td>Chicago Blackhawks</td>\n",
       "      <td>59.85</td>\n",
       "      <td>2.85</td>\n",
       "      <td>110.72</td>\n",
       "      <td>5</td>\n",
       "      <td>2</td>\n",
       "    </tr>\n",
       "    <tr>\n",
       "      <th>1</th>\n",
       "      <td>924787664</td>\n",
       "      <td>Arizona Coyotes</td>\n",
       "      <td>St Louis Blues</td>\n",
       "      <td>St Louis Blues</td>\n",
       "      <td>8.60</td>\n",
       "      <td>2.11</td>\n",
       "      <td>9.55</td>\n",
       "      <td>6</td>\n",
       "      <td>1</td>\n",
       "    </tr>\n",
       "    <tr>\n",
       "      <th>2</th>\n",
       "      <td>924817166</td>\n",
       "      <td>Edmonton Oilers</td>\n",
       "      <td>Vegas Golden Knights</td>\n",
       "      <td>Edmonton Oilers</td>\n",
       "      <td>74.85</td>\n",
       "      <td>2.07</td>\n",
       "      <td>80.09</td>\n",
       "      <td>1</td>\n",
       "      <td>0</td>\n",
       "    </tr>\n",
       "  </tbody>\n",
       "</table>\n",
       "</div>"
      ],
      "text/plain": [
       "     Game ID            Home Team             Away Team                Pick  \\\n",
       "0  924787663  Nashville Predators    Chicago Blackhawks  Chicago Blackhawks   \n",
       "1  924787664      Arizona Coyotes        St Louis Blues      St Louis Blues   \n",
       "2  924817166      Edmonton Oilers  Vegas Golden Knights     Edmonton Oilers   \n",
       "\n",
       "     Bet  Odds  Profit  Home Score  Away Score  \n",
       "0  59.85  2.85  110.72           5           2  \n",
       "1   8.60  2.11    9.55           6           1  \n",
       "2  74.85  2.07   80.09           1           0  "
      ]
     },
     "execution_count": 10,
     "metadata": {},
     "output_type": "execute_result"
    }
   ],
   "source": [
    "bets()"
   ]
  },
  {
   "cell_type": "code",
   "execution_count": 11,
   "metadata": {},
   "outputs": [
    {
     "data": {
      "text/html": [
       "<div>\n",
       "<style>\n",
       "    .dataframe thead tr:only-child th {\n",
       "        text-align: right;\n",
       "    }\n",
       "\n",
       "    .dataframe thead th {\n",
       "        text-align: left;\n",
       "    }\n",
       "\n",
       "    .dataframe tbody tr th {\n",
       "        vertical-align: top;\n",
       "    }\n",
       "</style>\n",
       "<table border=\"1\" class=\"dataframe\">\n",
       "  <thead>\n",
       "    <tr style=\"text-align: right;\">\n",
       "      <th></th>\n",
       "      <th>Game ID</th>\n",
       "      <th>Home Team</th>\n",
       "      <th>Away Team</th>\n",
       "      <th>Home Odds</th>\n",
       "      <th>Away Odds</th>\n",
       "      <th>Start Time</th>\n",
       "      <th>Home Probability</th>\n",
       "      <th>Away Probability</th>\n",
       "      <th>Home Kelly</th>\n",
       "      <th>Away Kelly</th>\n",
       "      <th>Pick</th>\n",
       "      <th>Wager</th>\n",
       "    </tr>\n",
       "  </thead>\n",
       "  <tbody>\n",
       "    <tr>\n",
       "      <th>0</th>\n",
       "      <td>925184949</td>\n",
       "      <td>Washington Capitals</td>\n",
       "      <td>Anaheim Ducks</td>\n",
       "      <td>1.529</td>\n",
       "      <td>2.7</td>\n",
       "      <td>2018-12-02T20:05:00Z</td>\n",
       "      <td>0.5</td>\n",
       "      <td>0.5</td>\n",
       "      <td>-0.44518</td>\n",
       "      <td>0.205882</td>\n",
       "      <td>Anaheim Ducks</td>\n",
       "      <td>147.901765</td>\n",
       "    </tr>\n",
       "  </tbody>\n",
       "</table>\n",
       "</div>"
      ],
      "text/plain": [
       "     Game ID            Home Team      Away Team  Home Odds  Away Odds  \\\n",
       "0  925184949  Washington Capitals  Anaheim Ducks      1.529        2.7   \n",
       "\n",
       "             Start Time  Home Probability  Away Probability  Home Kelly  \\\n",
       "0  2018-12-02T20:05:00Z               0.5               0.5    -0.44518   \n",
       "\n",
       "   Away Kelly           Pick       Wager  \n",
       "0    0.205882  Anaheim Ducks  147.901765  "
      ]
     },
     "execution_count": 11,
     "metadata": {},
     "output_type": "execute_result"
    }
   ],
   "source": [
    "df"
   ]
  },
  {
   "cell_type": "code",
   "execution_count": 12,
   "metadata": {},
   "outputs": [],
   "source": [
    "%matplotlib inline\n",
    "import matplotlib.pyplot as plt\n",
    "import matplotlib.image as mpimg"
   ]
  },
  {
   "cell_type": "code",
   "execution_count": 13,
   "metadata": {},
   "outputs": [
    {
     "data": {
      "image/png": "[encoded data removed]",
      "text/plain": [
       "<Figure size 432x288 with 1 Axes>"
      ]
     },
     "metadata": {},
     "output_type": "display_data"
    }
   ],
   "source": [
    "img=mpimg.imread('leafs.png')\n",
    "imgplot = plt.imshow(img)"
   ]
  },
  {
   "cell_type": "code",
   "execution_count": null,
   "metadata": {},
   "outputs": [],
   "source": []
  }
 ],
 "metadata": {
  "kernelspec": {
   "display_name": "Python 3",
   "language": "python",
   "name": "python3"
  },
  "language_info": {
   "codemirror_mode": {
    "name": "ipython",
    "version": 3
   },
   "file_extension": ".py",
   "mimetype": "text/x-python",
   "name": "python",
   "nbconvert_exporter": "python",
   "pygments_lexer": "ipython3",
   "version": "3.6.4"
  }
 },
 "nbformat": 4,
 "nbformat_minor": 2
}
