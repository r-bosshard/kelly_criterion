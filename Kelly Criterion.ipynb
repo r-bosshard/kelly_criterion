{
 "cells": [
  {
   "cell_type": "code",
   "execution_count": 149,
   "metadata": {},
   "outputs": [],
   "source": [
    "import pandas as pd\n",
    "import numpy as np\n",
    "import requests\n",
    "from bs4 import BeautifulSoup as BS\n",
    "import datetime"
   ]
  },
  {
   "cell_type": "code",
   "execution_count": 150,
   "metadata": {},
   "outputs": [],
   "source": [
    "#location of chance % win on the athletic\n",
    "url = \"https://theathletic.com/565136/2018/10/08/2018-19-nhl-point-projections-and-playoff-probabilities-updated-daily/\""
   ]
  },
  {
   "cell_type": "code",
   "execution_count": 151,
   "metadata": {},
   "outputs": [],
   "source": [
    "#generates correct Kelly-bet size for any game\n",
    "def kelly(funds, name_1, odds_1, prob_1, name_2, odds_2, prob_2):\n",
    "    kelly_1 = (prob_1*odds_1 - 1)/(odds_1 - 1)\n",
    "    wager_1 = funds * kelly_1\n",
    "    kelly_2 = (prob_2*odds_2 - 1)/(odds_2 - 1)\n",
    "    wager_2 = funds * kelly_2\n",
    "    if 0 > kelly_1 and 0 > kelly_2:\n",
    "        stmt = print(\"Do not bet on the game between the\", name_1, \"and the\", name_2)\n",
    "    elif kelly_1 > kelly_2:\n",
    "        stmt = print(\"You should bet\", \"${:.2f}\".format(wager_1), \"on the\", name_1, \"to beat the\", name_2)\n",
    "    else:\n",
    "        stmt = print(\"You should bet\", \"${:.2f}\".format(wager_2), \"on the\", name_2, \"to beat the\", name_1)\n",
    "    return stmt"
   ]
  },
  {
   "cell_type": "code",
   "execution_count": 158,
   "metadata": {},
   "outputs": [
    {
     "name": "stdout",
     "output_type": "stream",
     "text": [
      "October 10, 2018\n"
     ]
    }
   ],
   "source": [
    "now = datetime.datetime.now()\n",
    "now.strftime(\"%Y-%m-%d %H:%M\")\n",
    "\n",
    "mydate = datetime.datetime.now()\n",
    "month = mydate.strftime(\"%B\")\n",
    "day = mydate.strftime(\"%d\")\n",
    "year = mydate.strftime(\"%Y\")\n",
    "current_date = print(month,\"{:.0f},\".format(int(day)), year)\n",
    "current_date"
   ]
  },
  {
   "cell_type": "code",
   "execution_count": 159,
   "metadata": {},
   "outputs": [
    {
     "name": "stdout",
     "output_type": "stream",
     "text": [
      "October 10, 2018, 1:30PM<\n"
     ]
    }
   ],
   "source": [
    "r = requests.get(url)\n",
    "#soup = BS(r.text)\n",
    "#print(soup.find('Last updated').text)\n",
    "last_update_find = r.text.find('Last updated')\n",
    "last_updated = print(r.text[last_update_find:last_update_find+39][14:])\n",
    "last_updated"
   ]
  },
  {
   "cell_type": "code",
   "execution_count": 154,
   "metadata": {},
   "outputs": [],
   "source": [
    "bankroll = 867.76"
   ]
  },
  {
   "cell_type": "code",
   "execution_count": 155,
   "metadata": {},
   "outputs": [
    {
     "name": "stdout",
     "output_type": "stream",
     "text": [
      "You should bet $11.59 on the Coyotes to beat the Ducks\n"
     ]
    }
   ],
   "source": [
    "team1_name = \"Oilers\"\n",
    "team1_odds = 2.47\n",
    "team1_prob = \n",
    "team2_name = \"Bruins\"\n",
    "team2_odds = 1.613\n",
    "team2_prob = 1-team1_prob\n",
    "\n",
    "kelly(bankroll, team1_name, team1_odds, team1_prob, team2_name, team2_odds, team2_prob)"
   ]
  },
  {
   "cell_type": "code",
   "execution_count": 155,
   "metadata": {},
   "outputs": [
    {
     "name": "stdout",
     "output_type": "stream",
     "text": [
      "You should bet $11.59 on the Coyotes to beat the Ducks\n"
     ]
    }
   ],
   "source": [
    "team1_name = \"Avalanche\"\n",
    "team1_odds = 1.961\n",
    "team1_prob = \n",
    "team2_name = \"Sabres\"\n",
    "team2_odds = 1.943\n",
    "team2_prob = 1-team1_prob\n",
    "\n",
    "kelly(bankroll, team1_name, team1_odds, team1_prob, team2_name, team2_odds, team2_prob)"
   ]
  },
  {
   "cell_type": "code",
   "execution_count": 155,
   "metadata": {},
   "outputs": [
    {
     "name": "stdout",
     "output_type": "stream",
     "text": [
      "You should bet $11.59 on the Coyotes to beat the Ducks\n"
     ]
    }
   ],
   "source": [
    "team1_name = \"Blue Jackets\"\n",
    "team1_odds = 2.19\n",
    "team1_prob = \n",
    "team2_name = \"Panthers\"\n",
    "team2_odds = 1.763\n",
    "team2_prob = 1-team1_prob\n",
    "\n",
    "kelly(bankroll, team1_name, team1_odds, team1_prob, team2_name, team2_odds, team2_prob)"
   ]
  },
  {
   "cell_type": "code",
   "execution_count": 155,
   "metadata": {},
   "outputs": [
    {
     "name": "stdout",
     "output_type": "stream",
     "text": [
      "You should bet $11.59 on the Coyotes to beat the Ducks\n"
     ]
    }
   ],
   "source": [
    "team1_name = \"Capitals\"\n",
    "team1_odds = \n",
    "team1_prob = \n",
    "team2_name = \"Devils\"\n",
    "team2_odds = \n",
    "team2_prob = 1-team1_prob\n",
    "\n",
    "kelly(bankroll, team1_name, team1_odds, team1_prob, team2_name, team2_odds, team2_prob)"
   ]
  },
  {
   "cell_type": "code",
   "execution_count": 155,
   "metadata": {},
   "outputs": [
    {
     "name": "stdout",
     "output_type": "stream",
     "text": [
      "You should bet $11.59 on the Coyotes to beat the Ducks\n"
     ]
    }
   ],
   "source": [
    "team1_name = \"Sharks\"\n",
    "team1_odds = 1.591\n",
    "team1_prob = \n",
    "team2_name = \"Rangers\"\n",
    "team2_odds = 2.52\n",
    "team2_prob = 1-team1_prob\n",
    "\n",
    "kelly(bankroll, team1_name, team1_odds, team1_prob, team2_name, team2_odds, team2_prob)"
   ]
  },
  {
   "cell_type": "code",
   "execution_count": 155,
   "metadata": {},
   "outputs": [
    {
     "name": "stdout",
     "output_type": "stream",
     "text": [
      "You should bet $11.59 on the Coyotes to beat the Ducks\n"
     ]
    }
   ],
   "source": [
    "team1_name = \"Golden Knights\"\n",
    "team1_odds = \n",
    "team1_prob = \n",
    "team2_name = \"Penguins\"\n",
    "team2_odds = \n",
    "team2_prob = 1-team1_prob\n",
    "\n",
    "kelly(bankroll, team1_name, team1_odds, team1_prob, team2_name, team2_odds, team2_prob)"
   ]
  },
  {
   "cell_type": "code",
   "execution_count": 155,
   "metadata": {},
   "outputs": [
    {
     "name": "stdout",
     "output_type": "stream",
     "text": [
      "You should bet $11.59 on the Coyotes to beat the Ducks\n"
     ]
    }
   ],
   "source": [
    "team1_name = \"Kings\"\n",
    "team1_odds = 2.11\n",
    "team1_prob = \n",
    "team2_name = \"Canadiens\"\n",
    "team2_odds = 1.813\n",
    "team2_prob = 1-team1_prob\n",
    "\n",
    "kelly(bankroll, team1_name, team1_odds, team1_prob, team2_name, team2_odds, team2_prob)"
   ]
  },
  {
   "cell_type": "code",
   "execution_count": 155,
   "metadata": {},
   "outputs": [
    {
     "name": "stdout",
     "output_type": "stream",
     "text": [
      "You should bet $11.59 on the Coyotes to beat the Ducks\n"
     ]
    }
   ],
   "source": [
    "team1_name = \"Leafs\"\n",
    "team1_odds = 1.584\n",
    "team1_prob = \n",
    "team2_name = \"Detriot\"\n",
    "team2_odds = 2.54\n",
    "team2_prob = 1-team1_prob\n",
    "\n",
    "kelly(bankroll, team1_name, team1_odds, team1_prob, team2_name, team2_odds, team2_prob)"
   ]
  },
  {
   "cell_type": "code",
   "execution_count": 155,
   "metadata": {},
   "outputs": [
    {
     "name": "stdout",
     "output_type": "stream",
     "text": [
      "You should bet $11.59 on the Coyotes to beat the Ducks\n"
     ]
    }
   ],
   "source": [
    "team1_name = \"Canucks\"\n",
    "team1_odds = 3.31\n",
    "team1_prob = \n",
    "team2_name = \"Lightning\"\n",
    "team2_odds = 1.384\n",
    "team2_prob = 1-team1_prob\n",
    "\n",
    "kelly(bankroll, team1_name, team1_odds, team1_prob, team2_name, team2_odds, team2_prob)"
   ]
  },
  {
   "cell_type": "code",
   "execution_count": 155,
   "metadata": {},
   "outputs": [
    {
     "name": "stdout",
     "output_type": "stream",
     "text": [
      "You should bet $11.59 on the Coyotes to beat the Ducks\n"
     ]
    }
   ],
   "source": [
    "team1_name = \"Flames\"\n",
    "team1_odds = \n",
    "team1_prob = \n",
    "team2_name = \"Blues\"\n",
    "team2_odds = \n",
    "team2_prob = 1-team1_prob\n",
    "\n",
    "kelly(bankroll, team1_name, team1_odds, team1_prob, team2_name, team2_odds, team2_prob)"
   ]
  },
  {
   "cell_type": "code",
   "execution_count": 155,
   "metadata": {},
   "outputs": [
    {
     "name": "stdout",
     "output_type": "stream",
     "text": [
      "You should bet $11.59 on the Coyotes to beat the Ducks\n"
     ]
    }
   ],
   "source": [
    "team1_name = \"Jets\"\n",
    "team1_odds = 2.19\n",
    "team1_prob = \n",
    "team2_name = \"Predators\"\n",
    "team2_odds = 1.763\n",
    "team2_prob = 1-team1_prob\n",
    "\n",
    "kelly(bankroll, team1_name, team1_odds, team1_prob, team2_name, team2_odds, team2_prob)"
   ]
  },
  {
   "cell_type": "code",
   "execution_count": 155,
   "metadata": {},
   "outputs": [
    {
     "name": "stdout",
     "output_type": "stream",
     "text": [
      "You should bet $11.59 on the Coyotes to beat the Ducks\n"
     ]
    }
   ],
   "source": [
    "team1_name = \"Blackhawks\"\n",
    "team1_odds = 2.41\n",
    "team1_prob = \n",
    "team2_name = \"Wild\"\n",
    "team2_odds = 1.641\n",
    "team2_prob = 1-team1_prob\n",
    "\n",
    "kelly(bankroll, team1_name, team1_odds, team1_prob, team2_name, team2_odds, team2_prob)"
   ]
  },
  {
   "cell_type": "code",
   "execution_count": 9,
   "metadata": {},
   "outputs": [
    {
     "data": {
      "text/plain": [
       "1.7518796992481203"
      ]
     },
     "execution_count": 9,
     "metadata": {},
     "output_type": "execute_result"
    }
   ],
   "source": [
    "#convert American odds to decimal\n",
    "odds = -133\n",
    "\n",
    "if odds > 0:\n",
    "    decimal = odds/100 + 1\n",
    "else:\n",
    "    decimal = 100/abs(odds) + 1\n",
    "\n",
    "decimal"
   ]
  },
  {
   "cell_type": "code",
   "execution_count": null,
   "metadata": {},
   "outputs": [],
   "source": []
  }
 ],
 "metadata": {
  "kernelspec": {
   "display_name": "Python 3",
   "language": "python",
   "name": "python3"
  },
  "language_info": {
   "codemirror_mode": {
    "name": "ipython",
    "version": 3
   },
   "file_extension": ".py",
   "mimetype": "text/x-python",
   "name": "python",
   "nbconvert_exporter": "python",
   "pygments_lexer": "ipython3",
   "version": "3.6.4"
  }
 },
 "nbformat": 4,
 "nbformat_minor": 2
}
