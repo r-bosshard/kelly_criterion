{
 "cells": [
  {
   "cell_type": "code",
   "execution_count": 1,
   "metadata": {},
   "outputs": [],
   "source": [
    "import pandas as pd\n",
    "import numpy as np\n",
    "import requests\n",
    "from bs4 import BeautifulSoup as BS\n",
    "import datetime"
   ]
  },
  {
   "cell_type": "code",
   "execution_count": 2,
   "metadata": {},
   "outputs": [],
   "source": [
    "#location of chance % win on the athletic\n",
    "url = \"https://theathletic.com/565136/2018/10/08/2018-19-nhl-point-projections-and-playoff-probabilities-updated-daily/\""
   ]
  },
  {
   "cell_type": "code",
   "execution_count": 3,
   "metadata": {},
   "outputs": [],
   "source": [
    "#generates correct Kelly-bet size for any game\n",
    "def kelly(funds, name_1, odds_1, prob_1, name_2, odds_2, prob_2):\n",
    "    kelly_1 = (prob_1*odds_1 - 1)/(odds_1 - 1)\n",
    "    wager_1 = funds * kelly_1\n",
    "    kelly_2 = (prob_2*odds_2 - 1)/(odds_2 - 1)\n",
    "    wager_2 = funds * kelly_2\n",
    "    if 0 > kelly_1 and 0 > kelly_2:\n",
    "        stmt = print(\"Do not bet on the game between the\", name_1, \"and the\", name_2)\n",
    "    elif kelly_1 > kelly_2:\n",
    "        stmt = print(\"You should bet\", \"${:.2f}\".format(wager_1), \"on the\", name_1, \"to beat the\", name_2)\n",
    "    else:\n",
    "        stmt = print(\"You should bet\", \"${:.2f}\".format(wager_2), \"on the\", name_2, \"to beat the\", name_1)\n",
    "    return stmt"
   ]
  },
  {
   "cell_type": "code",
   "execution_count": 4,
   "metadata": {},
   "outputs": [
    {
     "name": "stdout",
     "output_type": "stream",
     "text": [
      "October 13, 2018\n"
     ]
    }
   ],
   "source": [
    "now = datetime.datetime.now()\n",
    "now.strftime(\"%Y-%m-%d %H:%M\")\n",
    "\n",
    "mydate = datetime.datetime.now()\n",
    "month = mydate.strftime(\"%B\")\n",
    "day = mydate.strftime(\"%d\")\n",
    "year = mydate.strftime(\"%Y\")\n",
    "current_date = print(month,\"{:.0f},\".format(int(day)), year)\n",
    "current_date"
   ]
  },
  {
   "cell_type": "code",
   "execution_count": 5,
   "metadata": {},
   "outputs": [
    {
     "name": "stdout",
     "output_type": "stream",
     "text": [
      "October 13, 2018, 12:45PM\n"
     ]
    }
   ],
   "source": [
    "r = requests.get(url)\n",
    "#soup = BS(r.text)\n",
    "#print(soup.find('Last updated').text)\n",
    "last_update_find = r.text.find('Last updated')\n",
    "last_updated = print(r.text[last_update_find:last_update_find+39][14:])\n",
    "last_updated"
   ]
  },
  {
   "cell_type": "code",
   "execution_count": 6,
   "metadata": {},
   "outputs": [],
   "source": [
    "bankroll = 745.24"
   ]
  },
  {
   "cell_type": "code",
   "execution_count": 7,
   "metadata": {},
   "outputs": [
    {
     "name": "stdout",
     "output_type": "stream",
     "text": [
      "Do not bet on the game between the Bruins and the Red Wings\n"
     ]
    }
   ],
   "source": [
    "team1_name = \"Bruins\"\n",
    "team1_odds = 1.416\n",
    "team1_prob = .684\n",
    "team2_name = \"Red Wings\"\n",
    "team2_odds = 3.14\n",
    "team2_prob = 1-team1_prob\n",
    "\n",
    "kelly(bankroll, team1_name, team1_odds, team1_prob, team2_name, team2_odds, team2_prob)"
   ]
  },
  {
   "cell_type": "code",
   "execution_count": 19,
   "metadata": {},
   "outputs": [
    {
     "name": "stdout",
     "output_type": "stream",
     "text": [
      "You should bet $33.28 on the Panthers to beat the Canucks\n"
     ]
    }
   ],
   "source": [
    "team1_name = \"Panthers\"\n",
    "team1_odds = 1.518\n",
    "team1_prob = 0.674\n",
    "team2_name = \"Canucks\"\n",
    "team2_odds = 2.73\n",
    "team2_prob = 1-team1_prob\n",
    "\n",
    "kelly(bankroll, team1_name, team1_odds, team1_prob, team2_name, team2_odds, team2_prob)"
   ]
  },
  {
   "cell_type": "code",
   "execution_count": 9,
   "metadata": {},
   "outputs": [
    {
     "name": "stdout",
     "output_type": "stream",
     "text": [
      "You should bet $2.87 on the Islanders to beat the Predators\n"
     ]
    }
   ],
   "source": [
    "team1_name = \"Predators\"\n",
    "team1_odds = 1.467\n",
    "team1_prob = .655\n",
    "team2_name = \"Islanders\"\n",
    "team2_odds = 2.92\n",
    "team2_prob = 1-team1_prob\n",
    "\n",
    "kelly(bankroll, team1_name, team1_odds, team1_prob, team2_name, team2_odds, team2_prob)"
   ]
  },
  {
   "cell_type": "code",
   "execution_count": 20,
   "metadata": {},
   "outputs": [
    {
     "name": "stdout",
     "output_type": "stream",
     "text": [
      "Do not bet on the game between the Lightning and the Blue Jackets\n"
     ]
    }
   ],
   "source": [
    "team1_name = \"Lightning\"\n",
    "team1_odds = 1.684\n",
    "team1_prob = .592\n",
    "team2_name = \"Blue Jackets\"\n",
    "team2_odds = 2.32\n",
    "team2_prob = 1-team1_prob\n",
    "\n",
    "kelly(bankroll, team1_name, team1_odds, team1_prob, team2_name, team2_odds, team2_prob)"
   ]
  },
  {
   "cell_type": "code",
   "execution_count": 25,
   "metadata": {},
   "outputs": [
    {
     "name": "stdout",
     "output_type": "stream",
     "text": [
      "You should bet $19.64 on the Coyotes to beat the Sabres\n"
     ]
    }
   ],
   "source": [
    "team1_name = \"Coyotes\"\n",
    "team1_odds = 1.746\n",
    "team1_prob = 0.584\n",
    "team2_name = \"Sabres\"\n",
    "team2_odds = 2.21\n",
    "team2_prob = 1-team1_prob\n",
    "\n",
    "kelly(bankroll, team1_name, team1_odds, team1_prob, team2_name, team2_odds, team2_prob)"
   ]
  },
  {
   "cell_type": "code",
   "execution_count": 28,
   "metadata": {},
   "outputs": [
    {
     "data": {
      "text/plain": [
       "0.8620853080568721"
      ]
     },
     "execution_count": 28,
     "metadata": {},
     "output_type": "execute_result"
    }
   ],
   "source": [
    "1.819/2.11"
   ]
  },
  {
   "cell_type": "code",
   "execution_count": 22,
   "metadata": {},
   "outputs": [
    {
     "name": "stdout",
     "output_type": "stream",
     "text": [
      "Do not bet on the game between the Wild and the Hurricanes\n"
     ]
    }
   ],
   "source": [
    "team1_name = \"Wild\"\n",
    "team1_odds = 1.787\n",
    "team1_prob = .539\n",
    "team2_name = \"Hurricanes\"\n",
    "team2_odds = 2.15\n",
    "team2_prob = 1-team1_prob\n",
    "\n",
    "kelly(bankroll, team1_name, team1_odds, team1_prob, team2_name, team2_odds, team2_prob)"
   ]
  },
  {
   "cell_type": "code",
   "execution_count": 23,
   "metadata": {},
   "outputs": [
    {
     "name": "stdout",
     "output_type": "stream",
     "text": [
      "You should bet $81.02 on the Ducks to beat the Stars\n"
     ]
    }
   ],
   "source": [
    "team1_name = \"Stars\"\n",
    "team1_odds = 1.625\n",
    "team1_prob = 0.526\n",
    "team2_name = \"Ducks\"\n",
    "team2_odds = 2.44\n",
    "team2_prob = 1-team1_prob\n",
    "\n",
    "kelly(bankroll, team1_name, team1_odds, team1_prob, team2_name, team2_odds, team2_prob)"
   ]
  },
  {
   "cell_type": "code",
   "execution_count": 14,
   "metadata": {},
   "outputs": [
    {
     "name": "stdout",
     "output_type": "stream",
     "text": [
      "You should bet $9.33 on the Flames to beat the Avalanche\n"
     ]
    }
   ],
   "source": [
    "team1_name = \"Avalanche\"\n",
    "team1_odds = 1.833\n",
    "team1_prob = 0.515\n",
    "team2_name = \"Flames\"\n",
    "team2_odds = 2.09\n",
    "team2_prob = 1-team1_prob\n",
    "\n",
    "kelly(bankroll, team1_name, team1_odds, team1_prob, team2_name, team2_odds, team2_prob)"
   ]
  },
  {
   "cell_type": "code",
   "execution_count": 24,
   "metadata": {},
   "outputs": [
    {
     "name": "stdout",
     "output_type": "stream",
     "text": [
      "You should bet $25.02 on the Blackhawks to beat the Blues\n"
     ]
    }
   ],
   "source": [
    "team1_name = \"Blackhawks\"\n",
    "team1_odds = 2.02\n",
    "team1_prob = 0.512\n",
    "team2_name = \"Blues\"\n",
    "team2_odds = 1.884\n",
    "team2_prob = 1-team1_prob\n",
    "\n",
    "kelly(bankroll, team1_name, team1_odds, team1_prob, team2_name, team2_odds, team2_prob)"
   ]
  },
  {
   "cell_type": "code",
   "execution_count": 16,
   "metadata": {},
   "outputs": [
    {
     "name": "stdout",
     "output_type": "stream",
     "text": [
      "You should bet $61.39 on the Leafs to beat the Capitals\n"
     ]
    }
   ],
   "source": [
    "team1_name = \"Capitals\"\n",
    "team1_odds = 1.862\n",
    "team1_prob = .47\n",
    "team2_name = \"Leafs\"\n",
    "team2_odds = 2.05\n",
    "team2_prob = 1-team1_prob\n",
    "\n",
    "kelly(bankroll, team1_name, team1_odds, team1_prob, team2_name, team2_odds, team2_prob)"
   ]
  },
  {
   "cell_type": "code",
   "execution_count": 17,
   "metadata": {},
   "outputs": [
    {
     "name": "stdout",
     "output_type": "stream",
     "text": [
      "Do not bet on the game between the Canadiens and the Penguins\n"
     ]
    }
   ],
   "source": [
    "team1_name = \"Canadiens\"\n",
    "team1_odds = 2.35\n",
    "team1_prob = 0.407\n",
    "team2_name = \"Penguins\"\n",
    "team2_odds = 1.671\n",
    "team2_prob = 1-team1_prob\n",
    "\n",
    "kelly(bankroll, team1_name, team1_odds, team1_prob, team2_name, team2_odds, team2_prob)"
   ]
  },
  {
   "cell_type": "code",
   "execution_count": 9,
   "metadata": {},
   "outputs": [
    {
     "data": {
      "text/plain": [
       "1.7518796992481203"
      ]
     },
     "execution_count": 9,
     "metadata": {},
     "output_type": "execute_result"
    }
   ],
   "source": [
    "#convert American odds to decimal\n",
    "odds = -133\n",
    "\n",
    "if odds > 0:\n",
    "    decimal = odds/100 + 1\n",
    "else:\n",
    "    decimal = 100/abs(odds) + 1\n",
    "\n",
    "decimal"
   ]
  },
  {
   "cell_type": "code",
   "execution_count": null,
   "metadata": {},
   "outputs": [],
   "source": []
  }
 ],
 "metadata": {
  "kernelspec": {
   "display_name": "Python 3",
   "language": "python",
   "name": "python3"
  },
  "language_info": {
   "codemirror_mode": {
    "name": "ipython",
    "version": 3
   },
   "file_extension": ".py",
   "mimetype": "text/x-python",
   "name": "python",
   "nbconvert_exporter": "python",
   "pygments_lexer": "ipython3",
   "version": "3.6.4"
  }
 },
 "nbformat": 4,
 "nbformat_minor": 2
}
