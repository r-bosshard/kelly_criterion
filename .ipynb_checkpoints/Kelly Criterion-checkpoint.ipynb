{
 "cells": [
  {
   "cell_type": "code",
   "execution_count": 29,
   "metadata": {},
   "outputs": [],
   "source": [
    "import pandas as pd\n",
    "import numpy as np\n",
    "import requests\n",
    "from bs4 import BeautifulSoup as BS\n",
    "import datetime"
   ]
  },
  {
   "cell_type": "code",
   "execution_count": 30,
   "metadata": {},
   "outputs": [],
   "source": [
    "#location of chance % win on the athletic\n",
    "url = \"https://theathletic.com/565136/2018/10/08/2018-19-nhl-point-projections-and-playoff-probabilities-updated-daily/\""
   ]
  },
  {
   "cell_type": "code",
   "execution_count": 31,
   "metadata": {},
   "outputs": [],
   "source": [
    "#generates correct Kelly-bet size for any game\n",
    "def kelly(funds, name_1, odds_1, prob_1, name_2, odds_2, prob_2):\n",
    "    kelly_1 = (prob_1*odds_1 - 1)/(odds_1 - 1)\n",
    "    wager_1 = funds * kelly_1\n",
    "    kelly_2 = (prob_2*odds_2 - 1)/(odds_2 - 1)\n",
    "    wager_2 = funds * kelly_2\n",
    "    if 0 > kelly_1 and 0 > kelly_2:\n",
    "        stmt = print(\"Do not bet on the game between the\", name_1, \"and the\", name_2)\n",
    "    elif kelly_1 > kelly_2:\n",
    "        stmt = print(\"You should bet\", \"${:.2f}\".format(wager_1), \"on the\", name_1, \"to beat the\", name_2)\n",
    "    else:\n",
    "        stmt = print(\"You should bet\", \"${:.2f}\".format(wager_2), \"on the\", name_2, \"to beat the\", name_1)\n",
    "    return stmt"
   ]
  },
  {
   "cell_type": "code",
   "execution_count": 32,
   "metadata": {},
   "outputs": [
    {
     "name": "stdout",
     "output_type": "stream",
     "text": [
      "October 14, 2018\n"
     ]
    }
   ],
   "source": [
    "now = datetime.datetime.now()\n",
    "now.strftime(\"%Y-%m-%d %H:%M\")\n",
    "\n",
    "mydate = datetime.datetime.now()\n",
    "month = mydate.strftime(\"%B\")\n",
    "day = mydate.strftime(\"%d\")\n",
    "year = mydate.strftime(\"%Y\")\n",
    "current_date = print(month,\"{:.0f},\".format(int(day)), year)\n",
    "current_date"
   ]
  },
  {
   "cell_type": "code",
   "execution_count": 33,
   "metadata": {},
   "outputs": [
    {
     "name": "stdout",
     "output_type": "stream",
     "text": [
      "October 14, 2018, 10:15AM\n"
     ]
    }
   ],
   "source": [
    "r = requests.get(url)\n",
    "#soup = BS(r.text)\n",
    "#print(soup.find('Last updated').text)\n",
    "last_update_find = r.text.find('Last updated')\n",
    "last_updated = print(r.text[last_update_find:last_update_find+39][14:])\n",
    "last_updated"
   ]
  },
  {
   "cell_type": "code",
   "execution_count": 6,
   "metadata": {},
   "outputs": [],
   "source": [
    "bankroll = 671.53"
   ]
  },
  {
   "cell_type": "code",
   "execution_count": 34,
   "metadata": {},
   "outputs": [
    {
     "name": "stdout",
     "output_type": "stream",
     "text": [
      "You should bet $39.05 on the Jets to beat the Hurricanes\n"
     ]
    }
   ],
   "source": [
    "team1_name = \"Hurricanes\"\n",
    "team1_odds = 2.52\n",
    "team1_prob = 0.352\n",
    "team2_name = \"Jets\"\n",
    "team2_odds = 1.591\n",
    "team2_prob = 1-team1_prob\n",
    "\n",
    "kelly(bankroll, team1_name, team1_odds, team1_prob, team2_name, team2_odds, team2_prob)"
   ]
  },
  {
   "cell_type": "code",
   "execution_count": 35,
   "metadata": {},
   "outputs": [
    {
     "name": "stdout",
     "output_type": "stream",
     "text": [
      "You should bet $39.09 on the Ducks to beat the Blues\n"
     ]
    }
   ],
   "source": [
    "team1_name = \"Ducks\"\n",
    "team1_odds = 2.42\n",
    "team1_prob = 0.444\n",
    "team2_name = \"Blues\"\n",
    "team2_odds = 1.636\n",
    "team2_prob = 1-team1_prob\n",
    "\n",
    "kelly(bankroll, team1_name, team1_odds, team1_prob, team2_name, team2_odds, team2_prob)"
   ]
  },
  {
   "cell_type": "code",
   "execution_count": 9,
   "metadata": {},
   "outputs": [
    {
     "data": {
      "text/plain": [
       "1.7518796992481203"
      ]
     },
     "execution_count": 9,
     "metadata": {},
     "output_type": "execute_result"
    }
   ],
   "source": [
    "#convert American odds to decimal\n",
    "odds = -133\n",
    "\n",
    "if odds > 0:\n",
    "    decimal = odds/100 + 1\n",
    "else:\n",
    "    decimal = 100/abs(odds) + 1\n",
    "\n",
    "decimal"
   ]
  },
  {
   "cell_type": "code",
   "execution_count": null,
   "metadata": {},
   "outputs": [],
   "source": []
  }
 ],
 "metadata": {
  "kernelspec": {
   "display_name": "Python 3",
   "language": "python",
   "name": "python3"
  },
  "language_info": {
   "codemirror_mode": {
    "name": "ipython",
    "version": 3
   },
   "file_extension": ".py",
   "mimetype": "text/x-python",
   "name": "python",
   "nbconvert_exporter": "python",
   "pygments_lexer": "ipython3",
   "version": "3.6.4"
  }
 },
 "nbformat": 4,
 "nbformat_minor": 2
}
